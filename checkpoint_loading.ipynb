{
 "cells": [
  {
   "cell_type": "code",
   "execution_count": 1,
   "metadata": {},
   "outputs": [],
   "source": [
    "import os\n",
    "import sys\n",
    "import shutil\n",
    "import torch\n",
    "import torch.nn as nn\n",
    "import torch.nn.functional as F\n",
    "import torch.optim as optim\n",
    "from torchvision import transforms\n",
    "from torch.autograd import Variable\n",
    "import torch.backends.cudnn as cudnn\n",
    "from triplet_image_loader import TripletImageLoader\n",
    "from tripletnet import CS_Tripletnet\n",
    "from visdom import Visdom\n",
    "import numpy as np\n",
    "import Resnet_18\n",
    "from csn import ConditionalSimNet"
   ]
  },
  {
   "cell_type": "code",
   "execution_count": 34,
   "metadata": {},
   "outputs": [],
   "source": [
    "checkpoint = torch.load(r'C:\\Users\\User\\VSCode\\Pytorch_Lrarning\\conditional-similarity-networks\\runs\\test\\checkpoint.pth.tar')\n"
   ]
  },
  {
   "cell_type": "code",
   "execution_count": 39,
   "metadata": {},
   "outputs": [
    {
     "data": {
      "text/plain": [
       "dict_keys(['epoch', 'state_dict', 'best_prec1', 'acc', 'loss'])"
      ]
     },
     "execution_count": 39,
     "metadata": {},
     "output_type": "execute_result"
    }
   ],
   "source": [
    "checkpoint.keys()"
   ]
  },
  {
   "cell_type": "code",
   "execution_count": 29,
   "metadata": {},
   "outputs": [
    {
     "data": {
      "text/plain": [
       "odict_keys(['embeddingnet.embeddingnet.conv1.weight', 'embeddingnet.embeddingnet.bn1.weight', 'embeddingnet.embeddingnet.bn1.bias', 'embeddingnet.embeddingnet.bn1.running_mean', 'embeddingnet.embeddingnet.bn1.running_var', 'embeddingnet.embeddingnet.bn1.num_batches_tracked', 'embeddingnet.embeddingnet.layer1.0.conv1.weight', 'embeddingnet.embeddingnet.layer1.0.bn1.weight', 'embeddingnet.embeddingnet.layer1.0.bn1.bias', 'embeddingnet.embeddingnet.layer1.0.bn1.running_mean', 'embeddingnet.embeddingnet.layer1.0.bn1.running_var', 'embeddingnet.embeddingnet.layer1.0.bn1.num_batches_tracked', 'embeddingnet.embeddingnet.layer1.0.conv2.weight', 'embeddingnet.embeddingnet.layer1.0.bn2.weight', 'embeddingnet.embeddingnet.layer1.0.bn2.bias', 'embeddingnet.embeddingnet.layer1.0.bn2.running_mean', 'embeddingnet.embeddingnet.layer1.0.bn2.running_var', 'embeddingnet.embeddingnet.layer1.0.bn2.num_batches_tracked', 'embeddingnet.embeddingnet.layer1.1.conv1.weight', 'embeddingnet.embeddingnet.layer1.1.bn1.weight', 'embeddingnet.embeddingnet.layer1.1.bn1.bias', 'embeddingnet.embeddingnet.layer1.1.bn1.running_mean', 'embeddingnet.embeddingnet.layer1.1.bn1.running_var', 'embeddingnet.embeddingnet.layer1.1.bn1.num_batches_tracked', 'embeddingnet.embeddingnet.layer1.1.conv2.weight', 'embeddingnet.embeddingnet.layer1.1.bn2.weight', 'embeddingnet.embeddingnet.layer1.1.bn2.bias', 'embeddingnet.embeddingnet.layer1.1.bn2.running_mean', 'embeddingnet.embeddingnet.layer1.1.bn2.running_var', 'embeddingnet.embeddingnet.layer1.1.bn2.num_batches_tracked', 'embeddingnet.embeddingnet.layer2.0.conv1.weight', 'embeddingnet.embeddingnet.layer2.0.bn1.weight', 'embeddingnet.embeddingnet.layer2.0.bn1.bias', 'embeddingnet.embeddingnet.layer2.0.bn1.running_mean', 'embeddingnet.embeddingnet.layer2.0.bn1.running_var', 'embeddingnet.embeddingnet.layer2.0.bn1.num_batches_tracked', 'embeddingnet.embeddingnet.layer2.0.conv2.weight', 'embeddingnet.embeddingnet.layer2.0.bn2.weight', 'embeddingnet.embeddingnet.layer2.0.bn2.bias', 'embeddingnet.embeddingnet.layer2.0.bn2.running_mean', 'embeddingnet.embeddingnet.layer2.0.bn2.running_var', 'embeddingnet.embeddingnet.layer2.0.bn2.num_batches_tracked', 'embeddingnet.embeddingnet.layer2.0.downsample.0.weight', 'embeddingnet.embeddingnet.layer2.0.downsample.1.weight', 'embeddingnet.embeddingnet.layer2.0.downsample.1.bias', 'embeddingnet.embeddingnet.layer2.0.downsample.1.running_mean', 'embeddingnet.embeddingnet.layer2.0.downsample.1.running_var', 'embeddingnet.embeddingnet.layer2.0.downsample.1.num_batches_tracked', 'embeddingnet.embeddingnet.layer2.1.conv1.weight', 'embeddingnet.embeddingnet.layer2.1.bn1.weight', 'embeddingnet.embeddingnet.layer2.1.bn1.bias', 'embeddingnet.embeddingnet.layer2.1.bn1.running_mean', 'embeddingnet.embeddingnet.layer2.1.bn1.running_var', 'embeddingnet.embeddingnet.layer2.1.bn1.num_batches_tracked', 'embeddingnet.embeddingnet.layer2.1.conv2.weight', 'embeddingnet.embeddingnet.layer2.1.bn2.weight', 'embeddingnet.embeddingnet.layer2.1.bn2.bias', 'embeddingnet.embeddingnet.layer2.1.bn2.running_mean', 'embeddingnet.embeddingnet.layer2.1.bn2.running_var', 'embeddingnet.embeddingnet.layer2.1.bn2.num_batches_tracked', 'embeddingnet.embeddingnet.layer3.0.conv1.weight', 'embeddingnet.embeddingnet.layer3.0.bn1.weight', 'embeddingnet.embeddingnet.layer3.0.bn1.bias', 'embeddingnet.embeddingnet.layer3.0.bn1.running_mean', 'embeddingnet.embeddingnet.layer3.0.bn1.running_var', 'embeddingnet.embeddingnet.layer3.0.bn1.num_batches_tracked', 'embeddingnet.embeddingnet.layer3.0.conv2.weight', 'embeddingnet.embeddingnet.layer3.0.bn2.weight', 'embeddingnet.embeddingnet.layer3.0.bn2.bias', 'embeddingnet.embeddingnet.layer3.0.bn2.running_mean', 'embeddingnet.embeddingnet.layer3.0.bn2.running_var', 'embeddingnet.embeddingnet.layer3.0.bn2.num_batches_tracked', 'embeddingnet.embeddingnet.layer3.0.downsample.0.weight', 'embeddingnet.embeddingnet.layer3.0.downsample.1.weight', 'embeddingnet.embeddingnet.layer3.0.downsample.1.bias', 'embeddingnet.embeddingnet.layer3.0.downsample.1.running_mean', 'embeddingnet.embeddingnet.layer3.0.downsample.1.running_var', 'embeddingnet.embeddingnet.layer3.0.downsample.1.num_batches_tracked', 'embeddingnet.embeddingnet.layer3.1.conv1.weight', 'embeddingnet.embeddingnet.layer3.1.bn1.weight', 'embeddingnet.embeddingnet.layer3.1.bn1.bias', 'embeddingnet.embeddingnet.layer3.1.bn1.running_mean', 'embeddingnet.embeddingnet.layer3.1.bn1.running_var', 'embeddingnet.embeddingnet.layer3.1.bn1.num_batches_tracked', 'embeddingnet.embeddingnet.layer3.1.conv2.weight', 'embeddingnet.embeddingnet.layer3.1.bn2.weight', 'embeddingnet.embeddingnet.layer3.1.bn2.bias', 'embeddingnet.embeddingnet.layer3.1.bn2.running_mean', 'embeddingnet.embeddingnet.layer3.1.bn2.running_var', 'embeddingnet.embeddingnet.layer3.1.bn2.num_batches_tracked', 'embeddingnet.embeddingnet.fc_embed.weight', 'embeddingnet.embeddingnet.fc_embed.bias', 'embeddingnet.masks.weight'])"
      ]
     },
     "execution_count": 29,
     "metadata": {},
     "output_type": "execute_result"
    }
   ],
   "source": [
    "a.keys()"
   ]
  },
  {
   "cell_type": "code",
   "execution_count": 16,
   "metadata": {},
   "outputs": [
    {
     "name": "stdout",
     "output_type": "stream",
     "text": [
      "Ttest_relResult(statistic=3.4448283904160903, pvalue=0.018339599077846956)\n"
     ]
    }
   ],
   "source": [
    "import scipy.stats as stats\n",
    "\n",
    " \n",
    "# Creating data groups\n",
    "data_group1 = np.array([1.92, 12.12, 13.16, 8.57, 2.56, 13.79])\n",
    "data_group2 = np.array([0.00, 3.70, 0.00, 4.17, 0.00, 0.00])\n",
    " \n",
    "# Print the variance of both data groups\n",
    "print(stats.ttest_rel(data_group1, data_group2))\n",
    "\n"
   ]
  },
  {
   "cell_type": "code",
   "execution_count": null,
   "metadata": {},
   "outputs": [],
   "source": []
  },
  {
   "cell_type": "markdown",
   "metadata": {},
   "source": [
    "Fashion Data Triplet"
   ]
  },
  {
   "cell_type": "code",
   "execution_count": 1,
   "metadata": {},
   "outputs": [],
   "source": [
    "import numpy as np # linear algebra\n",
    "import pandas as pd # data processing, CSV file I/O (e.g. pd.read_csv)\n",
    "\n",
    "import os # accessing directory structure\n",
    "import random"
   ]
  },
  {
   "cell_type": "code",
   "execution_count": 2,
   "metadata": {},
   "outputs": [
    {
     "name": "stdout",
     "output_type": "stream",
     "text": [
      "['images', 'styles.csv']\n"
     ]
    }
   ],
   "source": [
    "DATASET_PATH = r\"C:\\Users\\User\\VSCode\\Pytorch_Lrarning\\conditional-similarity-networks\\data_new\\FashionProduct\\myntradataset\"\n",
    "print(os.listdir(DATASET_PATH))\n",
    "\n"
   ]
  },
  {
   "cell_type": "code",
   "execution_count": 3,
   "metadata": {},
   "outputs": [
    {
     "name": "stderr",
     "output_type": "stream",
     "text": [
      "C:\\Users\\User\\AppData\\Local\\Temp\\ipykernel_23664\\1253033299.py:1: FutureWarning: The error_bad_lines argument has been deprecated and will be removed in a future version. Use on_bad_lines in the future.\n",
      "\n",
      "\n",
      "  df = pd.read_csv(DATASET_PATH + \"\\styles.csv\", error_bad_lines=False)\n",
      "b'Skipping line 6044: expected 10 fields, saw 11\\nSkipping line 6569: expected 10 fields, saw 11\\nSkipping line 7399: expected 10 fields, saw 11\\nSkipping line 7939: expected 10 fields, saw 11\\nSkipping line 9026: expected 10 fields, saw 11\\nSkipping line 10264: expected 10 fields, saw 11\\nSkipping line 10427: expected 10 fields, saw 11\\nSkipping line 10905: expected 10 fields, saw 11\\nSkipping line 11373: expected 10 fields, saw 11\\nSkipping line 11945: expected 10 fields, saw 11\\nSkipping line 14112: expected 10 fields, saw 11\\nSkipping line 14532: expected 10 fields, saw 11\\nSkipping line 15076: expected 10 fields, saw 12\\nSkipping line 29906: expected 10 fields, saw 11\\nSkipping line 31625: expected 10 fields, saw 11\\nSkipping line 33020: expected 10 fields, saw 11\\nSkipping line 35748: expected 10 fields, saw 11\\nSkipping line 35962: expected 10 fields, saw 11\\nSkipping line 37770: expected 10 fields, saw 11\\nSkipping line 38105: expected 10 fields, saw 11\\nSkipping line 38275: expected 10 fields, saw 11\\nSkipping line 38404: expected 10 fields, saw 12\\n'\n"
     ]
    }
   ],
   "source": [
    "df = pd.read_csv(DATASET_PATH + \"\\styles.csv\", error_bad_lines=False)\n",
    "df['image'] = df.apply(lambda row: str(row['id']) + \".jpg\", axis=1)"
   ]
  },
  {
   "cell_type": "code",
   "execution_count": 4,
   "metadata": {},
   "outputs": [
    {
     "data": {
      "text/plain": [
       "Index(['id', 'gender', 'masterCategory', 'subCategory', 'articleType',\n",
       "       'baseColour', 'season', 'year', 'usage', 'productDisplayName', 'image'],\n",
       "      dtype='object')"
      ]
     },
     "execution_count": 4,
     "metadata": {},
     "output_type": "execute_result"
    }
   ],
   "source": [
    "df.columns"
   ]
  },
  {
   "cell_type": "code",
   "execution_count": 38,
   "metadata": {},
   "outputs": [
    {
     "data": {
      "text/plain": [
       "Apparel           21397\n",
       "Accessories       11274\n",
       "Footwear           9219\n",
       "Personal Care      2403\n",
       "Free Items          105\n",
       "Sporting Goods       25\n",
       "Home                  1\n",
       "Name: masterCategory, dtype: int64"
      ]
     },
     "execution_count": 38,
     "metadata": {},
     "output_type": "execute_result"
    }
   ],
   "source": [
    "df.masterCategory.value_counts()"
   ]
  },
  {
   "cell_type": "code",
   "execution_count": 5,
   "metadata": {},
   "outputs": [
    {
     "data": {
      "text/html": [
       "<div>\n",
       "<style scoped>\n",
       "    .dataframe tbody tr th:only-of-type {\n",
       "        vertical-align: middle;\n",
       "    }\n",
       "\n",
       "    .dataframe tbody tr th {\n",
       "        vertical-align: top;\n",
       "    }\n",
       "\n",
       "    .dataframe thead th {\n",
       "        text-align: right;\n",
       "    }\n",
       "</style>\n",
       "<table border=\"1\" class=\"dataframe\">\n",
       "  <thead>\n",
       "    <tr style=\"text-align: right;\">\n",
       "      <th></th>\n",
       "      <th>id</th>\n",
       "      <th>gender</th>\n",
       "      <th>masterCategory</th>\n",
       "      <th>subCategory</th>\n",
       "      <th>articleType</th>\n",
       "      <th>baseColour</th>\n",
       "      <th>season</th>\n",
       "      <th>year</th>\n",
       "      <th>usage</th>\n",
       "      <th>productDisplayName</th>\n",
       "      <th>image</th>\n",
       "    </tr>\n",
       "  </thead>\n",
       "  <tbody>\n",
       "    <tr>\n",
       "      <th>0</th>\n",
       "      <td>15970</td>\n",
       "      <td>Men</td>\n",
       "      <td>Apparel</td>\n",
       "      <td>Topwear</td>\n",
       "      <td>Shirts</td>\n",
       "      <td>Navy Blue</td>\n",
       "      <td>Fall</td>\n",
       "      <td>2011.0</td>\n",
       "      <td>Casual</td>\n",
       "      <td>Turtle Check Men Navy Blue Shirt</td>\n",
       "      <td>15970.jpg</td>\n",
       "    </tr>\n",
       "    <tr>\n",
       "      <th>1</th>\n",
       "      <td>39386</td>\n",
       "      <td>Men</td>\n",
       "      <td>Apparel</td>\n",
       "      <td>Bottomwear</td>\n",
       "      <td>Jeans</td>\n",
       "      <td>Blue</td>\n",
       "      <td>Summer</td>\n",
       "      <td>2012.0</td>\n",
       "      <td>Casual</td>\n",
       "      <td>Peter England Men Party Blue Jeans</td>\n",
       "      <td>39386.jpg</td>\n",
       "    </tr>\n",
       "    <tr>\n",
       "      <th>3</th>\n",
       "      <td>21379</td>\n",
       "      <td>Men</td>\n",
       "      <td>Apparel</td>\n",
       "      <td>Bottomwear</td>\n",
       "      <td>Track Pants</td>\n",
       "      <td>Black</td>\n",
       "      <td>Fall</td>\n",
       "      <td>2011.0</td>\n",
       "      <td>Casual</td>\n",
       "      <td>Manchester United Men Solid Black Track Pants</td>\n",
       "      <td>21379.jpg</td>\n",
       "    </tr>\n",
       "    <tr>\n",
       "      <th>4</th>\n",
       "      <td>53759</td>\n",
       "      <td>Men</td>\n",
       "      <td>Apparel</td>\n",
       "      <td>Topwear</td>\n",
       "      <td>Tshirts</td>\n",
       "      <td>Grey</td>\n",
       "      <td>Summer</td>\n",
       "      <td>2012.0</td>\n",
       "      <td>Casual</td>\n",
       "      <td>Puma Men Grey T-shirt</td>\n",
       "      <td>53759.jpg</td>\n",
       "    </tr>\n",
       "    <tr>\n",
       "      <th>5</th>\n",
       "      <td>1855</td>\n",
       "      <td>Men</td>\n",
       "      <td>Apparel</td>\n",
       "      <td>Topwear</td>\n",
       "      <td>Tshirts</td>\n",
       "      <td>Grey</td>\n",
       "      <td>Summer</td>\n",
       "      <td>2011.0</td>\n",
       "      <td>Casual</td>\n",
       "      <td>Inkfruit Mens Chain Reaction T-shirt</td>\n",
       "      <td>1855.jpg</td>\n",
       "    </tr>\n",
       "    <tr>\n",
       "      <th>...</th>\n",
       "      <td>...</td>\n",
       "      <td>...</td>\n",
       "      <td>...</td>\n",
       "      <td>...</td>\n",
       "      <td>...</td>\n",
       "      <td>...</td>\n",
       "      <td>...</td>\n",
       "      <td>...</td>\n",
       "      <td>...</td>\n",
       "      <td>...</td>\n",
       "      <td>...</td>\n",
       "    </tr>\n",
       "    <tr>\n",
       "      <th>44414</th>\n",
       "      <td>30614</td>\n",
       "      <td>Men</td>\n",
       "      <td>Apparel</td>\n",
       "      <td>Topwear</td>\n",
       "      <td>Tshirts</td>\n",
       "      <td>Black</td>\n",
       "      <td>Summer</td>\n",
       "      <td>2012.0</td>\n",
       "      <td>Sports</td>\n",
       "      <td>Nike Men Striped Black Jersey</td>\n",
       "      <td>30614.jpg</td>\n",
       "    </tr>\n",
       "    <tr>\n",
       "      <th>44415</th>\n",
       "      <td>13496</td>\n",
       "      <td>Men</td>\n",
       "      <td>Apparel</td>\n",
       "      <td>Topwear</td>\n",
       "      <td>Tshirts</td>\n",
       "      <td>Blue</td>\n",
       "      <td>Fall</td>\n",
       "      <td>2011.0</td>\n",
       "      <td>Casual</td>\n",
       "      <td>Chimp Men Teja Main Hoon Blue Tshirts</td>\n",
       "      <td>13496.jpg</td>\n",
       "    </tr>\n",
       "    <tr>\n",
       "      <th>44417</th>\n",
       "      <td>12544</td>\n",
       "      <td>Women</td>\n",
       "      <td>Apparel</td>\n",
       "      <td>Topwear</td>\n",
       "      <td>Tshirts</td>\n",
       "      <td>Peach</td>\n",
       "      <td>Fall</td>\n",
       "      <td>2011.0</td>\n",
       "      <td>Casual</td>\n",
       "      <td>Tantra Women Printed Peach T-shirt</td>\n",
       "      <td>12544.jpg</td>\n",
       "    </tr>\n",
       "    <tr>\n",
       "      <th>44418</th>\n",
       "      <td>42234</td>\n",
       "      <td>Women</td>\n",
       "      <td>Apparel</td>\n",
       "      <td>Topwear</td>\n",
       "      <td>Tops</td>\n",
       "      <td>Blue</td>\n",
       "      <td>Summer</td>\n",
       "      <td>2012.0</td>\n",
       "      <td>Casual</td>\n",
       "      <td>Sepia Women Blue Printed Top</td>\n",
       "      <td>42234.jpg</td>\n",
       "    </tr>\n",
       "    <tr>\n",
       "      <th>44421</th>\n",
       "      <td>18842</td>\n",
       "      <td>Men</td>\n",
       "      <td>Apparel</td>\n",
       "      <td>Topwear</td>\n",
       "      <td>Tshirts</td>\n",
       "      <td>Blue</td>\n",
       "      <td>Fall</td>\n",
       "      <td>2011.0</td>\n",
       "      <td>Casual</td>\n",
       "      <td>Puma Men Graphic Stellar Blue Tshirt</td>\n",
       "      <td>18842.jpg</td>\n",
       "    </tr>\n",
       "  </tbody>\n",
       "</table>\n",
       "<p>21397 rows × 11 columns</p>\n",
       "</div>"
      ],
      "text/plain": [
       "          id gender masterCategory subCategory  articleType baseColour  \\\n",
       "0      15970    Men        Apparel     Topwear       Shirts  Navy Blue   \n",
       "1      39386    Men        Apparel  Bottomwear        Jeans       Blue   \n",
       "3      21379    Men        Apparel  Bottomwear  Track Pants      Black   \n",
       "4      53759    Men        Apparel     Topwear      Tshirts       Grey   \n",
       "5       1855    Men        Apparel     Topwear      Tshirts       Grey   \n",
       "...      ...    ...            ...         ...          ...        ...   \n",
       "44414  30614    Men        Apparel     Topwear      Tshirts      Black   \n",
       "44415  13496    Men        Apparel     Topwear      Tshirts       Blue   \n",
       "44417  12544  Women        Apparel     Topwear      Tshirts      Peach   \n",
       "44418  42234  Women        Apparel     Topwear         Tops       Blue   \n",
       "44421  18842    Men        Apparel     Topwear      Tshirts       Blue   \n",
       "\n",
       "       season    year   usage                             productDisplayName  \\\n",
       "0        Fall  2011.0  Casual               Turtle Check Men Navy Blue Shirt   \n",
       "1      Summer  2012.0  Casual             Peter England Men Party Blue Jeans   \n",
       "3        Fall  2011.0  Casual  Manchester United Men Solid Black Track Pants   \n",
       "4      Summer  2012.0  Casual                          Puma Men Grey T-shirt   \n",
       "5      Summer  2011.0  Casual           Inkfruit Mens Chain Reaction T-shirt   \n",
       "...       ...     ...     ...                                            ...   \n",
       "44414  Summer  2012.0  Sports                  Nike Men Striped Black Jersey   \n",
       "44415    Fall  2011.0  Casual          Chimp Men Teja Main Hoon Blue Tshirts   \n",
       "44417    Fall  2011.0  Casual             Tantra Women Printed Peach T-shirt   \n",
       "44418  Summer  2012.0  Casual                   Sepia Women Blue Printed Top   \n",
       "44421    Fall  2011.0  Casual           Puma Men Graphic Stellar Blue Tshirt   \n",
       "\n",
       "           image  \n",
       "0      15970.jpg  \n",
       "1      39386.jpg  \n",
       "3      21379.jpg  \n",
       "4      53759.jpg  \n",
       "5       1855.jpg  \n",
       "...          ...  \n",
       "44414  30614.jpg  \n",
       "44415  13496.jpg  \n",
       "44417  12544.jpg  \n",
       "44418  42234.jpg  \n",
       "44421  18842.jpg  \n",
       "\n",
       "[21397 rows x 11 columns]"
      ]
     },
     "execution_count": 5,
     "metadata": {},
     "output_type": "execute_result"
    }
   ],
   "source": [
    "apparel = df[df.masterCategory == 'Apparel']\n",
    "apparel"
   ]
  },
  {
   "cell_type": "code",
   "execution_count": 142,
   "metadata": {},
   "outputs": [
    {
     "data": {
      "text/plain": [
       "0        15970.jpg\n",
       "1        39386.jpg\n",
       "3        21379.jpg\n",
       "4        53759.jpg\n",
       "5         1855.jpg\n",
       "           ...    \n",
       "44414    30614.jpg\n",
       "44415    13496.jpg\n",
       "44417    12544.jpg\n",
       "44418    42234.jpg\n",
       "44421    18842.jpg\n",
       "Name: image, Length: 21291, dtype: object"
      ]
     },
     "execution_count": 142,
     "metadata": {},
     "output_type": "execute_result"
    }
   ],
   "source": [
    "apparel.image"
   ]
  },
  {
   "cell_type": "code",
   "execution_count": 122,
   "metadata": {},
   "outputs": [
    {
     "data": {
      "text/plain": [
       "Index(['id', 'gender', 'masterCategory', 'subCategory', 'articleType',\n",
       "       'baseColour', 'season', 'year', 'usage', 'productDisplayName', 'image'],\n",
       "      dtype='object')"
      ]
     },
     "execution_count": 122,
     "metadata": {},
     "output_type": "execute_result"
    }
   ],
   "source": [
    "apparel.columns"
   ]
  },
  {
   "cell_type": "code",
   "execution_count": 6,
   "metadata": {},
   "outputs": [],
   "source": [
    "apparel = apparel[apparel.subCategory != 'Apparel Set']"
   ]
  },
  {
   "cell_type": "code",
   "execution_count": 91,
   "metadata": {},
   "outputs": [
    {
     "data": {
      "text/plain": [
       "Men       11352\n",
       "Women      8531\n",
       "Boys        750\n",
       "Girls       564\n",
       "Unisex       94\n",
       "Name: gender, dtype: int64"
      ]
     },
     "execution_count": 91,
     "metadata": {},
     "output_type": "execute_result"
    }
   ],
   "source": [
    "apparel.gender.value_counts()"
   ]
  },
  {
   "cell_type": "code",
   "execution_count": 48,
   "metadata": {},
   "outputs": [],
   "source": [
    "## Random Triplet Sampling\n",
    "\n",
    "# Category\n",
    "CategoryTriplet = []\n",
    "\n",
    "for c in apparel.subCategory.value_counts().index:\n",
    "    category = list(apparel[apparel.subCategory == c].id.values)\n",
    "\n",
    "    for i in range(int(len(category)/2)):\n",
    "\n",
    "        temp = random.sample(category, 2) \n",
    "        category.remove(temp[0])\n",
    "        category.remove(temp[1])\n",
    "        temp.insert(1, int(apparel[apparel.subCategory != c].sample(n=1).id.values))  \n",
    "\n",
    "        CategoryTriplet.append(temp)\n",
    "        \n",
    "\n"
   ]
  },
  {
   "cell_type": "code",
   "execution_count": 56,
   "metadata": {},
   "outputs": [],
   "source": [
    "def Triplet(condtiion):\n",
    "\n",
    "    Triplet = []\n",
    "\n",
    "    for c in apparel[condtiion].value_counts().index:\n",
    "        category = list(apparel[apparel[condtiion] == c].id.values)\n",
    "\n",
    "        for i in range(int(len(category)/2)):\n",
    "\n",
    "            temp = random.sample(category, 2) \n",
    "            category.remove(temp[0])\n",
    "            category.remove(temp[1])\n",
    "            temp.insert(1, int(apparel[apparel[condtiion] != c].sample(n=1).id.values))  \n",
    "\n",
    "            Triplet.append(temp)\n",
    "    \n",
    "    return pd.DataFrame(Triplet)"
   ]
  },
  {
   "cell_type": "code",
   "execution_count": 143,
   "metadata": {},
   "outputs": [],
   "source": [
    "def Triplet_replacement(condtiion, sample_num):\n",
    "\n",
    "    Triplet = []\n",
    "\n",
    "    for c in apparel[condtiion].value_counts().index:\n",
    "        category = list(apparel[apparel[condtiion] == c].id.values)\n",
    "\n",
    "        for i in range(sample_num // len(apparel[condtiion].value_counts().index)):\n",
    "\n",
    "            temp = random.sample(category, 1) \n",
    "            temp.insert(1, int(apparel[apparel[condtiion] != c].sample(n=1).id.values))\n",
    "            temp.insert(2, random.choice(category))  \n",
    "\n",
    "            Triplet.append(temp)\n",
    "    \n",
    "    return pd.DataFrame(Triplet)"
   ]
  },
  {
   "cell_type": "code",
   "execution_count": 99,
   "metadata": {},
   "outputs": [],
   "source": [
    "Condition = ['gender', 'subCategory', 'articleType', 'baseColour', 'season', 'usage']\n",
    "Train = ['gender_train', 'category_train', 'articleType_train', 'baseColour_train', 'season_train', 'usage_train']\n",
    "\n",
    "\n",
    "season_train = Triplet_replacement('season', 20000)\n",
    "season_val = Triplet_replacement('season', 20000)\n",
    "season_test = Triplet_replacement('season', 40000)"
   ]
  },
  {
   "cell_type": "code",
   "execution_count": 103,
   "metadata": {},
   "outputs": [],
   "source": [
    "np.savetxt(r'C:\\Users\\User\\VSCode\\Pytorch_Lrarning\\conditional-similarity-networks\\data_new\\tripletlists\\season_train.txt', season_train.values, fmt='%d')\n",
    "np.savetxt(r'C:\\Users\\User\\VSCode\\Pytorch_Lrarning\\conditional-similarity-networks\\data_new\\tripletlists\\season_val.txt', season_val.values, fmt='%d')\n",
    "np.savetxt(r'C:\\Users\\User\\VSCode\\Pytorch_Lrarning\\conditional-similarity-networks\\data_new\\tripletlists\\season_test.txt', season_test.values, fmt='%d')\n"
   ]
  },
  {
   "cell_type": "code",
   "execution_count": 144,
   "metadata": {},
   "outputs": [],
   "source": [
    "gender_train = Triplet_replacement('gender', 20000)\n",
    "gender_val = Triplet_replacement('gender', 20000)\n",
    "gender_test = Triplet_replacement('gender', 40000)"
   ]
  },
  {
   "cell_type": "code",
   "execution_count": 90,
   "metadata": {},
   "outputs": [
    {
     "name": "stdout",
     "output_type": "stream",
     "text": [
      "8311    Summer\n",
      "Name: season, dtype: object\n",
      "17067    Summer\n",
      "Name: season, dtype: object\n"
     ]
    },
    {
     "data": {
      "text/plain": [
       "195    Winter\n",
       "Name: season, dtype: object"
      ]
     },
     "execution_count": 90,
     "metadata": {},
     "output_type": "execute_result"
    }
   ],
   "source": [
    "print(apparel[apparel.id == 19630].season)\n",
    "print(apparel[apparel.id == 6038].season)\n",
    "apparel[apparel.id == 52486].season"
   ]
  },
  {
   "cell_type": "code",
   "execution_count": 100,
   "metadata": {},
   "outputs": [
    {
     "data": {
      "text/plain": [
       "array([[50681,  9711, 56287],\n",
       "       [27139, 14622, 57022],\n",
       "       [ 5113, 20357, 38973],\n",
       "       ...,\n",
       "       [23627, 13106,  2126],\n",
       "       [26515, 10486,  2147],\n",
       "       [28549, 22205, 39810]], dtype=int64)"
      ]
     },
     "execution_count": 100,
     "metadata": {},
     "output_type": "execute_result"
    }
   ],
   "source": [
    "season_train.values"
   ]
  },
  {
   "cell_type": "code",
   "execution_count": 1,
   "metadata": {},
   "outputs": [
    {
     "data": {
      "text/plain": [
       "'c:\\\\Users\\\\User\\\\VSCode\\\\Pytorch_Lrarning\\\\conditional-similarity-networks_new'"
      ]
     },
     "execution_count": 1,
     "metadata": {},
     "output_type": "execute_result"
    }
   ],
   "source": []
  },
  {
   "cell_type": "code",
   "execution_count": null,
   "metadata": {},
   "outputs": [],
   "source": []
  }
 ],
 "metadata": {
  "kernelspec": {
   "display_name": "Python 3.8.6 64-bit",
   "language": "python",
   "name": "python3"
  },
  "language_info": {
   "codemirror_mode": {
    "name": "ipython",
    "version": 3
   },
   "file_extension": ".py",
   "mimetype": "text/x-python",
   "name": "python",
   "nbconvert_exporter": "python",
   "pygments_lexer": "ipython3",
   "version": "3.8.6"
  },
  "orig_nbformat": 4,
  "vscode": {
   "interpreter": {
    "hash": "f544ce1a915a9875fad91c894e2c0bcad4b7a79945aa6027ef3ad27810072aa6"
   }
  }
 },
 "nbformat": 4,
 "nbformat_minor": 2
}
